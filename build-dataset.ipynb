{
 "cells": [
  {
   "cell_type": "markdown",
   "id": "2492a527-1219-42b5-81a7-e83395958705",
   "metadata": {},
   "source": [
    "# Assembling a dataset\n",
    "We want to build a dataset of ultimate-related articles so we will scrape the **[Ultiworld](https://ultiworld.com/)** website's articles.\n"
   ]
  },
  {
   "cell_type": "code",
   "execution_count": 13,
   "id": "cb904f73-4311-4a16-b424-712ab1c7adde",
   "metadata": {},
   "outputs": [],
   "source": [
    "from selenium import webdriver\n",
    "from selenium.webdriver.chrome.service import Service\n",
    "from selenium.webdriver.common.by import By\n",
    "import time\n",
    "import json\n",
    "\n",
    "# service = Service()\n",
    "# options = webdriver.ChromeOptions()\n",
    "# driver = webdriver.Chrome(service=service, options=options)\n",
    "\n",
    "\n",
    "url = \"https://ultiworld.com/wordpress/wp-login.php?redirect_to=https%3A%2F%2Fultiworld.com%2F\"\n",
    "# driver.get(url)"
   ]
  },
  {
   "cell_type": "code",
   "execution_count": 20,
   "id": "e20eee07",
   "metadata": {},
   "outputs": [
    {
     "data": {
      "text/plain": [
       "dict_keys(['ultiworld'])"
      ]
     },
     "execution_count": 20,
     "metadata": {},
     "output_type": "execute_result"
    }
   ],
   "source": [
    "with open(\"secrets.json\") as f:\n",
    "    secrets = json.load(f)\n",
    "secrets.keys()"
   ]
  },
  {
   "cell_type": "code",
   "execution_count": 39,
   "id": "b74f81fe-1da8-4da2-bb06-5466e45214e5",
   "metadata": {},
   "outputs": [],
   "source": [
    "\n",
    "\n",
    "class Browser():\n",
    "    def __init__(self, service, options):\n",
    "        self.browser = webdriver.Chrome(service=service, options=options)\n",
    "    \n",
    "    def open_page(self, url: str):\n",
    "        self.browser.get(url)\n",
    "\n",
    "    def close_browser(self):\n",
    "        self.browser.close()\n",
    "\n",
    "    def add_input(self, by: By, value: str, text: str):\n",
    "        field = self.browser.find_element(by=by, value=value)\n",
    "        field.send_keys(text)\n",
    "        time.sleep(1)\n",
    "\n",
    "    def click_button(self, by: By, value: str):\n",
    "        button = self.browser.find_element(by=by, value=value)\n",
    "        button.click()\n",
    "        time.sleep(1)\n",
    "\n",
    "    def login_ultiworld(self, username: str, password:str):\n",
    "        self.add_input(by = By.ID, value = \"user_login\", text=username)\n",
    "        self.add_input(by = By.ID, value = \"user_pass\", text=password)\n",
    "        self.click_button(by = By.ID, value = \"wp-submit\")\n",
    "\n",
    "    "
   ]
  },
  {
   "cell_type": "code",
   "execution_count": 40,
   "id": "0ef0db7a-5d4b-4fbf-b25b-16c3ff97d5a8",
   "metadata": {},
   "outputs": [],
   "source": [
    "browser = Browser(service = Service(), options = webdriver.ChromeOptions())\n",
    "browser.open_page(url)\n",
    "time.sleep(3)\n",
    "browser.login_ultiworld(secrets[\"ultiworld\"][\"username\"], secrets[\"ultiworld\"][\"password\"])"
   ]
  },
  {
   "cell_type": "code",
   "execution_count": 38,
   "id": "e99bacf0-08d9-4e74-be85-eb1192838d5f",
   "metadata": {},
   "outputs": [],
   "source": [
    "browser.close_browser()"
   ]
  },
  {
   "cell_type": "code",
   "execution_count": null,
   "id": "c143e8b2",
   "metadata": {},
   "outputs": [],
   "source": []
  }
 ],
 "metadata": {
  "kernelspec": {
   "display_name": "ulti",
   "language": "python",
   "name": "python3"
  },
  "language_info": {
   "codemirror_mode": {
    "name": "ipython",
    "version": 3
   },
   "file_extension": ".py",
   "mimetype": "text/x-python",
   "name": "python",
   "nbconvert_exporter": "python",
   "pygments_lexer": "ipython3",
   "version": "3.10.13"
  }
 },
 "nbformat": 4,
 "nbformat_minor": 5
}
