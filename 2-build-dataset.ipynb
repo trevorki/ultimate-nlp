{
 "cells": [
  {
   "cell_type": "markdown",
   "metadata": {},
   "source": [
    "# Build Dataset\n",
    "Format the downloaded articles as a huggingface dataset and push to hub."
   ]
  },
  {
   "cell_type": "code",
   "execution_count": 1,
   "metadata": {},
   "outputs": [
    {
     "data": {
      "text/plain": [
       "True"
      ]
     },
     "execution_count": 1,
     "metadata": {},
     "output_type": "execute_result"
    }
   ],
   "source": [
    "import os\n",
    "from datasets import load_dataset\n",
    "from dotenv import load_dotenv\n",
    "load_dotenv()"
   ]
  },
  {
   "cell_type": "code",
   "execution_count": 2,
   "metadata": {},
   "outputs": [
    {
     "data": {
      "text/plain": [
       "['12-days-of-college-ultimate-2024-things-were-excited-about.txt',\n",
       " '12-days-of-college-ultimate-2024-universe-lines.txt',\n",
       " '12-days-of-college-ultimate-5-team-strategies.txt',\n",
       " '12-days-of-college-ultimate-top-1st-year-players.txt',\n",
       " '2013-tidewater-tuneup-tournament-preview.txt']"
      ]
     },
     "execution_count": 2,
     "metadata": {},
     "output_type": "execute_result"
    }
   ],
   "source": [
    "folder = \"articles\"\n",
    "files = os.listdir(folder)\n",
    "files.sort()\n",
    "files[0:5]"
   ]
  },
  {
   "cell_type": "code",
   "execution_count": 4,
   "metadata": {},
   "outputs": [
    {
     "data": {
      "application/vnd.jupyter.widget-view+json": {
       "model_id": "21e3c85c897d4a19800623f6100782a3",
       "version_major": 2,
       "version_minor": 0
      },
      "text/plain": [
       "Resolving data files:   0%|          | 0/568 [00:00<?, ?it/s]"
      ]
     },
     "metadata": {},
     "output_type": "display_data"
    },
    {
     "data": {
      "application/vnd.jupyter.widget-view+json": {
       "model_id": "f042e759de934bdca433fa01560fa21b",
       "version_major": 2,
       "version_minor": 0
      },
      "text/plain": [
       "Generating train split: 0 examples [00:00, ? examples/s]"
      ]
     },
     "metadata": {},
     "output_type": "display_data"
    },
    {
     "data": {
      "text/plain": [
       "DatasetDict({\n",
       "    train: Dataset({\n",
       "        features: ['text'],\n",
       "        num_rows: 773\n",
       "    })\n",
       "})"
      ]
     },
     "execution_count": 4,
     "metadata": {},
     "output_type": "execute_result"
    }
   ],
   "source": [
    "dataset_name = \"ultimate-articles\"\n",
    "dataset = load_dataset(\"text\", \n",
    "                       name = dataset_name,\n",
    "                       data_dir = folder, \n",
    "                       data_files = files,\n",
    "                       num_proc = 2, \n",
    "                       sample_by = \"paragraph\", # or \"paragraph\" or \"document\"\n",
    ")\n",
    "dataset"
   ]
  },
  {
   "cell_type": "code",
   "execution_count": 5,
   "metadata": {},
   "outputs": [
    {
     "data": {
      "text/plain": [
       "{'text': \"\\xa0\\nUltiworld's\\xa0College Power Rankings, presented by the National Ultimate Training Camp!\\nWe are excited to present the 2024 preseason College Power Rankings! As we head into a new season, we've looked at past performance, roster changes, preseason results, and more to figure out how we think the team could stack up this season. Take a look at our first rankings set of the spring college season and read up about each Top 25 team.\\nWe will be counting down our rankings in three parts:\\nThe #25 to #16\\nThe #15 to #6\\nThe Top 5\\n16. Georgia Athena\\nNo beating around the bush here. Georgia returns both Quincy Booth and Fiona Cashin, who put up a combined 20G/43A/24B statline in Cincinnati last year. With a year of college, club (Ozone), and PUL (Atlanta Soul) together, they are ready to power Georgia to another Southeast regional title and the bracket of Nationals. And word on the street is the depth around them has increased considerably.\\n– Grace Conerly\\n2023 Finish: #23 in Power Rankings, T-19th at Nationals, 25-8 record\\nCenter handler and deep defender Kimmy Wilson is gone, but Whiplash otherwise return the heart of the roster that propelled them to 18 straight wins to kick off the 2023 season. After playing together on Public Enemy this summer, Allison Chang, Elissa Balke, Rebecca Jackson, and Elyssa Ducret are ready to earn Whiplash another chance at Nationals supported by the further development of their huge (nine-strong) 2023 rookie class.\\n– Scott Dunham\\n2023 Finish: #12 in Power Rankings, T-9th at Nationals, 34-7 record\\nIn the past two seasons the Valkyries have graduated two massively important players: Duschia Bodet and Clara Stewart. Do they have enough firepower to play their way back to Nationals again this year? While that's a difficult question to answer with any certainty for the time being, they're still in pretty good shape: Elise Freedman, Brittany DeRoehn, and Elyse Hall all have the talent to spearhead the 2024 effort.\\n– Edward Stephens\"}"
      ]
     },
     "execution_count": 5,
     "metadata": {},
     "output_type": "execute_result"
    }
   ],
   "source": [
    "n=50\n",
    "dataset[\"train\"][n]"
   ]
  },
  {
   "cell_type": "code",
   "execution_count": 6,
   "metadata": {},
   "outputs": [
    {
     "data": {
      "application/vnd.jupyter.widget-view+json": {
       "model_id": "b222311194d3442ebef4a5f71906ebea",
       "version_major": 2,
       "version_minor": 0
      },
      "text/plain": [
       "Map:   0%|          | 0/773 [00:00<?, ? examples/s]"
      ]
     },
     "metadata": {},
     "output_type": "display_data"
    },
    {
     "data": {
      "application/vnd.jupyter.widget-view+json": {
       "model_id": "468d1296b78846d99c0ae91867047750",
       "version_major": 2,
       "version_minor": 0
      },
      "text/plain": [
       "Filter:   0%|          | 0/773 [00:00<?, ? examples/s]"
      ]
     },
     "metadata": {},
     "output_type": "display_data"
    },
    {
     "data": {
      "text/plain": [
       "DatasetDict({\n",
       "    train: Dataset({\n",
       "        features: ['text', 'length'],\n",
       "        num_rows: 773\n",
       "    })\n",
       "})"
      ]
     },
     "execution_count": 6,
     "metadata": {},
     "output_type": "execute_result"
    }
   ],
   "source": [
    "# add length column\n",
    "def compute_text_length(example):\n",
    "    return {\"length\": len(example[\"text\"].split())}\n",
    "dataset = dataset.map(compute_text_length)\n",
    "\n",
    "# filter out short examples\n",
    "min_length = 8\n",
    "dataset = dataset.filter(lambda x: x[\"length\"] >= min_length)\n",
    "dataset"
   ]
  },
  {
   "cell_type": "code",
   "execution_count": 11,
   "metadata": {},
   "outputs": [
    {
     "data": {
      "application/vnd.jupyter.widget-view+json": {
       "model_id": "3678641b9e53408ab987e26064405c62",
       "version_major": 2,
       "version_minor": 0
      },
      "text/plain": [
       "Uploading the dataset shards:   0%|          | 0/1 [00:00<?, ?it/s]"
      ]
     },
     "metadata": {},
     "output_type": "display_data"
    },
    {
     "data": {
      "application/vnd.jupyter.widget-view+json": {
       "model_id": "e112ff0c92624aedb0507291818d634a",
       "version_major": 2,
       "version_minor": 0
      },
      "text/plain": [
       "Creating parquet from Arrow format:   0%|          | 0/1 [00:00<?, ?ba/s]"
      ]
     },
     "metadata": {},
     "output_type": "display_data"
    },
    {
     "data": {
      "application/vnd.jupyter.widget-view+json": {
       "model_id": "159008519173449aab8de060572637d6",
       "version_major": 2,
       "version_minor": 0
      },
      "text/plain": [
       "README.md:   0%|          | 0.00/405 [00:00<?, ?B/s]"
      ]
     },
     "metadata": {},
     "output_type": "display_data"
    },
    {
     "data": {
      "text/plain": [
       "CommitInfo(commit_url='https://huggingface.co/datasets/Roverto/ultimate-articles/commit/eb0ab0ae356dde199d90672504c501ebf35087d1', commit_message='Upload dataset', commit_description='', oid='eb0ab0ae356dde199d90672504c501ebf35087d1', pr_url=None, pr_revision=None, pr_num=None)"
      ]
     },
     "execution_count": 11,
     "metadata": {},
     "output_type": "execute_result"
    }
   ],
   "source": [
    "dataset.push_to_hub(\n",
    "    repo_id = f'{os.environ[\"HF_USERNAME\"]}/{dataset_name}',\n",
    "    private = True,\n",
    "    token = os.environ[\"HF_TOKEN\"]\n",
    ")"
   ]
  },
  {
   "cell_type": "code",
   "execution_count": 10,
   "metadata": {},
   "outputs": [
    {
     "data": {
      "text/plain": [
       "7505.090556274256"
      ]
     },
     "execution_count": 10,
     "metadata": {},
     "output_type": "execute_result"
    }
   ],
   "source": [
    "n = len(dataset[\"train\"][\"text\"])\n",
    "total_length = 0\n",
    "for item in dataset[\"train\"][\"text\"]:\n",
    "    total_length+=len(item)\n",
    "total_length/n"
   ]
  },
  {
   "cell_type": "code",
   "execution_count": null,
   "metadata": {},
   "outputs": [],
   "source": [
    "\n"
   ]
  },
  {
   "cell_type": "code",
   "execution_count": null,
   "metadata": {},
   "outputs": [],
   "source": []
  },
  {
   "cell_type": "code",
   "execution_count": 3,
   "metadata": {},
   "outputs": [
    {
     "name": "stdout",
     "output_type": "stream",
     "text": [
      "567\r"
     ]
    }
   ],
   "source": []
  },
  {
   "cell_type": "code",
   "execution_count": null,
   "metadata": {},
   "outputs": [],
   "source": []
  }
 ],
 "metadata": {
  "kernelspec": {
   "display_name": "ulti",
   "language": "python",
   "name": "python3"
  },
  "language_info": {
   "codemirror_mode": {
    "name": "ipython",
    "version": 3
   },
   "file_extension": ".py",
   "mimetype": "text/x-python",
   "name": "python",
   "nbconvert_exporter": "python",
   "pygments_lexer": "ipython3",
   "version": "3.10.13"
  }
 },
 "nbformat": 4,
 "nbformat_minor": 2
}
