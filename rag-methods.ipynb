{
 "cells": [
  {
   "cell_type": "markdown",
   "metadata": {},
   "source": [
    "# Rules of Ultimate RAG\n",
    "We want to create a way to query the rules of Ultimate using **retrieval augmented generation** (RAG)."
   ]
  },
  {
   "cell_type": "code",
   "execution_count": 1,
   "metadata": {},
   "outputs": [],
   "source": [
    "from langchain import hub\n",
    "from langchain.text_splitter import RecursiveCharacterTextSplitter\n",
    "from langchain_community.document_loaders import WebBaseLoader\n",
    "from langchain_community.vectorstores import Chroma\n",
    "from langchain_core.output_parsers import StrOutputParser\n",
    "from langchain_core.runnables import RunnablePassthrough\n",
    "from langchain_openai import ChatOpenAI, OpenAIEmbeddings\n",
    "import bs4"
   ]
  },
  {
   "cell_type": "code",
   "execution_count": 2,
   "metadata": {},
   "outputs": [],
   "source": [
    "from dotenv import load_dotenv\n",
    "load_dotenv()\n",
    "\n",
    "\n",
    "# Convert PDF files to text\n",
    "import fitz # install using: pip install PyMuPDF\n",
    "\n",
    "def extract_text_from_pdf(pdf_file_path):\n",
    "    with fitz.open(pdf_file_path) as doc:\n",
    "        text = \"\"\n",
    "        for page in doc:\n",
    "            text += page.get_text()\n",
    "\n",
    "    return text\n"
   ]
  },
  {
   "cell_type": "code",
   "execution_count": 3,
   "metadata": {},
   "outputs": [],
   "source": [
    "import os\n",
    "os.environ['LANGCHAIN_TRACING_V2'] = 'true'\n",
    "os.environ['LANGCHAIN_ENDPOINT'] =\"https://api.smith.langchain.com\"\n",
    "os.environ['LANGCHAIN_PROJECT'] = 'Trevor learning'\n"
   ]
  },
  {
   "cell_type": "markdown",
   "metadata": {},
   "source": [
    "## Load rules\n",
    "Can use local files (pdf) or from a website"
   ]
  },
  {
   "cell_type": "code",
   "execution_count": 3,
   "metadata": {},
   "outputs": [
    {
     "name": "stdout",
     "output_type": "stream",
     "text": [
      "Start of text: \n",
      " \n",
      "2022-23 Official Rules of Ultimate \n",
      " \n",
      "Preface \n",
      "Ultimate is a sport that inspires players and fans alike because of its ability to develop and showcase the \n",
      "athleticism, skill, teamwork, and characte\n"
     ]
    }
   ],
   "source": [
    "# OPTION 1: load from PDF\n",
    "\n",
    "# pdf_file_path = \"c2-dominion-rulebook.pdf\"\n",
    "pdf_file_path = \"Official-Rules-of-Ultimate-2022-2023.pdf\"\n",
    "text_content = extract_text_from_pdf(pdf_file_path)\n",
    "print(f\"Start of text: \\n{text_content[0:200]}\")\n",
    "\n",
    "# Split text into chunks\n",
    "text_splitter = RecursiveCharacterTextSplitter(chunk_size=1000, chunk_overlap=200)\n",
    "splits = text_splitter.create_documents((text_content,))"
   ]
  },
  {
   "cell_type": "code",
   "execution_count": 125,
   "metadata": {},
   "outputs": [
    {
     "name": "stdout",
     "output_type": "stream",
     "text": [
      "Start of text: \n",
      "page_content='2024-2025\\n\\n\\nOfficial Rules of Ultimate\\n\\n\\n\\n\\n\\n\\n\\n\\n\\nRules Menu\\n\\n\\n\\n\\n\\n\\n\\nRules of Ultimate\\n\\n\\n\\n\\n\\nRules Resources\\n\\n\\n\\n\\n\\nUltimate in 10 Simple Rules (English)\\n\\n\\n\n"
     ]
    }
   ],
   "source": [
    "## OPTION 2: Load Documents from a website\n",
    "\n",
    "# Load text\n",
    "url = \"https://usaultimate.org/rules/\"\n",
    "loader = WebBaseLoader(\n",
    "    web_paths=(url,),\n",
    "    bs_kwargs=dict(\n",
    "        parse_only=bs4.SoupStrainer(\n",
    "            class_=(\"site-content\")\n",
    "        )\n",
    "    ),\n",
    ")\n",
    "docs = loader.load()\n",
    "\n",
    "# Split text into chunks\n",
    "chunk_size = 2000\n",
    "text_splitter = RecursiveCharacterTextSplitter(chunk_size=chunk_size, chunk_overlap=200)\n",
    "splits = text_splitter.split_documents(docs)\n",
    "\n",
    "print(f\"Start of text: \\n{str(splits[0])[0:200]}\")"
   ]
  },
  {
   "cell_type": "markdown",
   "metadata": {},
   "source": [
    "## Embed rules and store vectors"
   ]
  },
  {
   "cell_type": "code",
   "execution_count": 126,
   "metadata": {},
   "outputs": [],
   "source": [
    "# import chromadb\n",
    "\n",
    "# # create vector store\n",
    "# name = \"usau_rules\"\n",
    "\n",
    "# client = chromadb.Client()\n",
    "# # client.delete_collection(name)\n",
    "# collection = client.create_collection(name=name)\n",
    "# collection\n",
    "\n",
    "# # add content\n",
    "# collection.add(\n",
    "#     documents=[doc.page_content.replace(\"\\n\", \"\") for doc in docs],\n",
    "#     metadatas=[{\"source\": \"usau rules\"} for i in range(len(docs))],\n",
    "#     ids=[f\"id_{i}\" for i in range(len(docs))],\n",
    "# )\n",
    "\n",
    "# query_texts = [\n",
    "#     \"how many stalls are counted during regular play?\"\n",
    "# ]\n",
    "# results = collection.query(\n",
    "#     query_texts=query_texts,\n",
    "#     n_results=1)\n",
    "# results[\"documents\"]"
   ]
  },
  {
   "cell_type": "markdown",
   "metadata": {},
   "source": [
    "**Note**: This is all well and good to see how Chroma works, but Langchain can do this faster and easier"
   ]
  },
  {
   "cell_type": "code",
   "execution_count": 127,
   "metadata": {},
   "outputs": [],
   "source": [
    "# Store embeddings\n",
    "vectorstore = Chroma.from_documents(documents=splits, \n",
    "                                    embedding=OpenAIEmbeddings())\n",
    "retriever = vectorstore.as_retriever(\n",
    "    # search_type=\"mmr\",\n",
    "    search_kwargs={\"k\": 5},\n",
    "    # search_type=\"similarity_score_threshold\", search_kwargs={\"score_threshold\": 0.6},\n",
    ")\n"
   ]
  },
  {
   "cell_type": "markdown",
   "metadata": {},
   "source": [
    "## Build rest of chain"
   ]
  },
  {
   "cell_type": "code",
   "execution_count": 150,
   "metadata": {},
   "outputs": [],
   "source": [
    "# Load prompt template from langchain hub\n",
    "prompt = hub.pull(\"rlm/rag-prompt\")\n",
    "\n",
    "# LLM\n",
    "llm = ChatOpenAI(model_name=\"gpt-3.5-turbo\", temperature=0)\n",
    "\n",
    "# Post-processing\n",
    "def format_docs(docs):\n",
    "    return \"\\n\\n\".join(doc.page_content for doc in docs)\n",
    "\n",
    "# Chain\n",
    "rag_chain = (\n",
    "    {\"context\": retriever | format_docs, \"question\": RunnablePassthrough()}\n",
    "    | prompt\n",
    "    | llm\n",
    "    | StrOutputParser()\n",
    ")\n"
   ]
  },
  {
   "cell_type": "code",
   "execution_count": 152,
   "metadata": {},
   "outputs": [
    {
     "name": "stdout",
     "output_type": "stream",
     "text": [
      "The minimum distance a defender can stand to a thrower while marking them is within ten feet of the thrower's pivot. The maximum distance would be beyond ten feet from the thrower's pivot.\n"
     ]
    }
   ],
   "source": [
    "# Question\n",
    "question = \"what is the minimum and maximum distance that a defender can stand to a thrower while marking them?\"\n",
    "answer = rag_chain.invoke(question)\n",
    "print(answer)"
   ]
  },
  {
   "cell_type": "markdown",
   "metadata": {},
   "source": [
    "# More advanced Query translation methods:\n",
    "\n",
    "## 1 Multi-query\n",
    "A way to ensure you get more useful documents returned.\n",
    "\n",
    "\n",
    "This method rephrases the original question in several ways, gets the retireved documents for each question, then returns a list of all the unique documents returned from all the queries. "
   ]
  },
  {
   "cell_type": "code",
   "execution_count": 153,
   "metadata": {},
   "outputs": [
    {
     "data": {
      "text/plain": [
       "[\"1. What are the allowable ranges for a defender's distance from a thrower during marking?\",\n",
       " '2. How close or far can a defender legally position themselves in relation to a thrower when marking?',\n",
       " '3. What is the range of distances within which a defender can stand in proximity to a thrower while marking?',\n",
       " '4. What are the limits on how near or far a defender can be from a thrower while engaged in marking?',\n",
       " '5. What is the specified minimum and maximum distance a defender must maintain when marking a thrower?']"
      ]
     },
     "execution_count": 153,
     "metadata": {},
     "output_type": "execute_result"
    }
   ],
   "source": [
    "from langchain.prompts import ChatPromptTemplate\n",
    "\n",
    "# Multi Query: Different Perspectives\n",
    "template = \"\"\"You are an AI language model assistant. Your task is to generate five \n",
    "different versions of the given user question to retrieve relevant documents from a vector \n",
    "database. By generating multiple perspectives on the user question, your goal is to help\n",
    "the user overcome some of the limitations of the distance-based similarity search. \n",
    "Provide these alternative questions separated by newlines. Original question: {question}\"\"\"\n",
    "prompt_perspectives = ChatPromptTemplate.from_template(template)\n",
    "\n",
    "from langchain_core.output_parsers import StrOutputParser\n",
    "from langchain_openai import ChatOpenAI\n",
    "\n",
    "generate_queries = (\n",
    "    prompt_perspectives \n",
    "    | ChatOpenAI(temperature=0) \n",
    "    | StrOutputParser() \n",
    "    | (lambda x: x.split(\"\\n\"))\n",
    ")\n",
    "# Try it out\n",
    "generate_queries.invoke({\"question\":question})"
   ]
  },
  {
   "cell_type": "code",
   "execution_count": 159,
   "metadata": {},
   "outputs": [
    {
     "data": {
      "text/plain": [
       "2"
      ]
     },
     "execution_count": 159,
     "metadata": {},
     "output_type": "execute_result"
    }
   ],
   "source": [
    "from langchain.load import dumps, loads\n",
    "\n",
    "def get_unique_union(documents: list[list]):\n",
    "    \"\"\" Unique union of retrieved docs \"\"\"\n",
    "    # Flatten list of lists, and convert each Document to string\n",
    "    flattened_docs = [dumps(doc) for sublist in documents for doc in sublist]\n",
    "    unique_docs = list(set(flattened_docs))\n",
    "    return [loads(doc) for doc in unique_docs]\n",
    "\n",
    "\n",
    "# Retrieve\n",
    "\n",
    "retrieval_chain = (\n",
    "    generate_queries   # produces a list of 5 queries\n",
    "    | retriever.map()  # calls invoke(<question>) on each query generated and returns a list of result lists\n",
    "    | get_unique_union # get list of relevant contexts\n",
    ")\n",
    "docs = retrieval_chain.invoke({\"question\":question})\n",
    "len(docs)"
   ]
  },
  {
   "cell_type": "code",
   "execution_count": 160,
   "metadata": {},
   "outputs": [
    {
     "data": {
      "text/plain": [
       "\"The minimum distance a defender can stand to a thrower while marking them is within ten feet of the thrower's pivot.\""
      ]
     },
     "execution_count": 160,
     "metadata": {},
     "output_type": "execute_result"
    }
   ],
   "source": [
    "from operator import itemgetter\n",
    "\n",
    "# RAG\n",
    "template = \"\"\"Answer the following question based on this context:\n",
    "\n",
    "{context}\n",
    "\n",
    "Question: {question}\n",
    "\"\"\"\n",
    "\n",
    "prompt = ChatPromptTemplate.from_template(template)\n",
    "\n",
    "llm = ChatOpenAI(temperature=0)\n",
    "\n",
    "final_rag_chain = (\n",
    "    {\"context\": retrieval_chain, \"question\": itemgetter(\"question\")} \n",
    "    | prompt\n",
    "    | llm\n",
    "    | StrOutputParser()\n",
    ")\n",
    "\n",
    "final_rag_chain.invoke({\"question\":question})"
   ]
  },
  {
   "cell_type": "markdown",
   "metadata": {},
   "source": [
    "## 2. RAG Fusion\n",
    "This is similar to multi-query, but instead of returning all the documents, it returns a list of documents, ranked in order of how frequently they appeared. You can then choose to use the top *n* of them as context."
   ]
  },
  {
   "cell_type": "code",
   "execution_count": 161,
   "metadata": {},
   "outputs": [
    {
     "data": {
      "text/plain": [
       "2"
      ]
     },
     "execution_count": 161,
     "metadata": {},
     "output_type": "execute_result"
    }
   ],
   "source": [
    "def reciprocal_rank_fusion(results: list[list], k=60):\n",
    "    \"\"\" Reciprocal_rank_fusion that takes multiple lists of ranked documents \n",
    "        and an optional parameter k used in the RRF formula \"\"\"\n",
    "    \n",
    "    # Initialize a dictionary to hold fused scores for each unique document\n",
    "    fused_scores = {}\n",
    "\n",
    "    # Iterate through each list of ranked documents\n",
    "    for docs in results:\n",
    "        # Iterate through each document in the list, with its rank (position in the list)\n",
    "        for rank, doc in enumerate(docs):\n",
    "            # Convert the document to a string format to use as a key (assumes documents can be serialized to JSON)\n",
    "            doc_str = dumps(doc)\n",
    "            # If the document is not yet in the fused_scores dictionary, add it with an initial score of 0\n",
    "            if doc_str not in fused_scores:\n",
    "                fused_scores[doc_str] = 0\n",
    "            # Retrieve the current score of the document, if any\n",
    "            previous_score = fused_scores[doc_str]\n",
    "            # Update the score of the document using the RRF formula: 1 / (rank + k)\n",
    "            fused_scores[doc_str] += 1 / (rank + k)\n",
    "\n",
    "    # Sort the documents based on their fused scores in descending order to get the final reranked results\n",
    "    reranked_results = [\n",
    "        (loads(doc), score)\n",
    "        for doc, score in sorted(fused_scores.items(), key=lambda x: x[1], reverse=True)\n",
    "    ]\n",
    "\n",
    "    # Return the reranked results as a list of tuples, each containing the document and its fused score\n",
    "    return reranked_results\n",
    "\n",
    "retrieval_chain_rag_fusion = generate_queries | retriever.map() | reciprocal_rank_fusion\n",
    "docs = retrieval_chain_rag_fusion.invoke({\"question\": question})\n",
    "len(docs)"
   ]
  },
  {
   "cell_type": "code",
   "execution_count": 162,
   "metadata": {},
   "outputs": [
    {
     "data": {
      "text/plain": [
       "\"The minimum distance a defender can stand to a thrower while marking them is within ten feet of the thrower's pivot. There is no specific mention of a maximum distance in the provided context.\""
      ]
     },
     "execution_count": 162,
     "metadata": {},
     "output_type": "execute_result"
    }
   ],
   "source": [
    "# RAG\n",
    "template = \"\"\"Answer the following question based on this context:\n",
    "\n",
    "{context}\n",
    "\n",
    "Question: {question}\n",
    "\"\"\"\n",
    "\n",
    "prompt = ChatPromptTemplate.from_template(template)\n",
    "final_rag_chain = (\n",
    "    {\"context\": retrieval_chain_rag_fusion, \n",
    "     \"question\": itemgetter(\"question\")} \n",
    "    | prompt\n",
    "    | llm\n",
    "    | StrOutputParser()\n",
    ")\n",
    "final_rag_chain.invoke({\"question\":question})"
   ]
  },
  {
   "cell_type": "markdown",
   "metadata": {},
   "source": [
    "### 3. Query Decomposition\n",
    "The idea here is that you break a query down into subqueries, get an answer for each subquery, then send the subqueries and their answers as the context for the original query."
   ]
  },
  {
   "cell_type": "code",
   "execution_count": 164,
   "metadata": {},
   "outputs": [
    {
     "data": {
      "text/plain": [
       "['1. What are the standard defensive strategies for marking a thrower in ultimate frisbee?',\n",
       " '2. How does the distance between a defender and a thrower affect the effectiveness of marking in ultimate frisbee?',\n",
       " '3. Are there any specific rules or guidelines regarding the minimum and maximum distance a defender can stand from a thrower in ultimate frisbee?']"
      ]
     },
     "execution_count": 164,
     "metadata": {},
     "output_type": "execute_result"
    }
   ],
   "source": [
    "# Decomposition: Break the question into subquestions\n",
    "template = \"\"\"You are a helpful assistant that generates multiple sub-questions related to an input question. \\n\n",
    "The goal is to break down the input into a set of sub-problems / sub-questions that can be answers in isolation. \\n\n",
    "Generate multiple search queries related to: {question} \\n\n",
    "Output (3 queries):\"\"\"\n",
    "prompt_decomposition = ChatPromptTemplate.from_template(template)\n",
    "\n",
    "llm = ChatOpenAI(temperature=0)\n",
    "generate_queries_decomposition = ( \n",
    "    prompt_decomposition \n",
    "    | llm \n",
    "    | StrOutputParser() \n",
    "    | (lambda x: x.split(\"\\n\"))\n",
    ")\n",
    "\n",
    "questions = generate_queries_decomposition.invoke({\"question\":question})\n",
    "questions"
   ]
  },
  {
   "cell_type": "code",
   "execution_count": 165,
   "metadata": {},
   "outputs": [],
   "source": [
    "# Prompt\n",
    "template = \"\"\"Here is the question you need to answer:\n",
    "\n",
    "\\n --- \\n {question} \\n --- \\n\n",
    "\n",
    "Here is any available background question + answer pairs:\n",
    "\n",
    "\\n --- \\n {q_a_pairs} \\n --- \\n\n",
    "\n",
    "Here is additional context relevant to the question: \n",
    "\n",
    "\\n --- \\n {context} \\n --- \\n\n",
    "\n",
    "Use the above context and any background question + answer pairs to answer the question: \\n {question}\n",
    "\"\"\"\n",
    "\n",
    "decomposition_prompt = ChatPromptTemplate.from_template(template)\n",
    "\n",
    "\n"
   ]
  },
  {
   "cell_type": "code",
   "execution_count": 166,
   "metadata": {},
   "outputs": [],
   "source": [
    "def format_qa_pair(question, answer):\n",
    "    \"\"\"Format Q and A pair\"\"\"\n",
    "    \n",
    "    formatted_string = \"\"\n",
    "    formatted_string += f\"Question: {question}\\nAnswer: {answer}\\n\\n\"\n",
    "    return formatted_string.strip()\n",
    "\n",
    "# llm\n",
    "llm = ChatOpenAI(model_name=\"gpt-3.5-turbo\", temperature=0)\n",
    "\n",
    "# \n",
    "q_a_pairs = \"\"\n",
    "for q in questions:\n",
    "    \n",
    "    rag_chain = (\n",
    "    {\"context\": itemgetter(\"question\") | retriever, \n",
    "     \"question\": itemgetter(\"question\"),\n",
    "     \"q_a_pairs\": itemgetter(\"q_a_pairs\")} \n",
    "    | decomposition_prompt\n",
    "    | llm\n",
    "    | StrOutputParser())\n",
    "\n",
    "    answer = rag_chain.invoke({\"question\":q,\"q_a_pairs\":q_a_pairs})\n",
    "    q_a_pair = format_qa_pair(q,answer)\n",
    "    q_a_pairs = q_a_pairs + \"\\n---\\n\"+  q_a_pair"
   ]
  },
  {
   "cell_type": "code",
   "execution_count": 167,
   "metadata": {},
   "outputs": [
    {
     "data": {
      "text/plain": [
       "'\\n---\\nQuestion: 1. What are the standard defensive strategies for marking a thrower in ultimate frisbee?\\nAnswer: Some standard defensive strategies for marking a thrower in ultimate frisbee include acknowledging readiness, establishing a pivot at the appropriate spot on the field, loudly announcing \"3-2-1,\" touching the disc to the ground, and loudly announcing \"disc in.\" Additionally, if play is to restart with a check but no offensive player is in possession of the disc at the appropriate spot, play restarts with a defensive self-check where the defender closest to the disc loudly announces \"3-2-1 disc in.\"\\n---\\nQuestion: 2. How does the distance between a defender and a thrower affect the effectiveness of marking in ultimate frisbee?\\nAnswer: The distance between a defender and a thrower in ultimate frisbee is crucial for the effectiveness of marking. According to the rules, the marker, which is the defensive player marking the thrower, must be within ten feet of the thrower\\'s pivot or the thrower if no pivot has been established. This close proximity allows the defender to apply pressure on the thrower, making it harder for them to make accurate throws or find open teammates downfield. By staying within this distance, the defender can disrupt the thrower\\'s rhythm and limit their options, ultimately making it more challenging for the offense to advance the disc effectively. Therefore, maintaining the appropriate distance is essential for effective marking in ultimate frisbee.\\n---\\nQuestion: 3. Are there any specific rules or guidelines regarding the minimum and maximum distance a defender can stand from a thrower in ultimate frisbee?\\nAnswer: Yes, according to the rules of ultimate frisbee, the marker (defensive player marking the thrower) must be within ten feet of the thrower\\'s pivot or the thrower if no pivot has been established. This rule ensures that the defender stays close enough to apply pressure on the thrower effectively, making it harder for them to make accurate throws or find open teammates downfield. By maintaining this distance, the defender can disrupt the thrower\\'s rhythm and limit their options, ultimately making it more challenging for the offense to advance the disc effectively.'"
      ]
     },
     "execution_count": 167,
     "metadata": {},
     "output_type": "execute_result"
    }
   ],
   "source": [
    "q_a_pairs"
   ]
  },
  {
   "cell_type": "markdown",
   "metadata": {},
   "source": [
    "We now have the individual answers, so let's bring it together"
   ]
  },
  {
   "cell_type": "code",
   "execution_count": 171,
   "metadata": {},
   "outputs": [],
   "source": [
    "# RAG prompt\n",
    "prompt_rag = hub.pull(\"rlm/rag-prompt\")\n",
    "\n",
    "def retrieve_and_rag(question,prompt_rag,sub_question_generator_chain):\n",
    "    \"\"\"RAG on each sub-question\"\"\"\n",
    "    \n",
    "    # Use our decomposition / \n",
    "    sub_questions = sub_question_generator_chain.invoke({\"question\":question})\n",
    "    \n",
    "    # Initialize a list to hold RAG chain results\n",
    "    rag_results = []\n",
    "    \n",
    "    for sub_question in sub_questions:\n",
    "        \n",
    "        # Retrieve documents for each sub-question\n",
    "        retrieved_docs = retriever.get_relevant_documents(sub_question)\n",
    "        \n",
    "        # Use retrieved documents and sub-question in RAG chain\n",
    "        answer = (prompt_rag | llm | StrOutputParser()).invoke({\"context\": retrieved_docs, \n",
    "                                                                \"question\": sub_question})\n",
    "        rag_results.append(answer)\n",
    "    \n",
    "    return rag_results,sub_questions\n",
    "\n",
    "# Wrap the retrieval and RAG process in a RunnableLambda for integration into a chain\n",
    "answers, questions = retrieve_and_rag(question, prompt_rag, generate_queries_decomposition)\n"
   ]
  },
  {
   "cell_type": "code",
   "execution_count": 172,
   "metadata": {},
   "outputs": [
    {
     "data": {
      "text/plain": [
       "['1. What are the standard rules and regulations for defender-to-thrower distance in ultimate frisbee?',\n",
       " '2. How does the distance between a defender and a thrower impact the effectiveness of marking in ultimate frisbee?',\n",
       " '3. Are there any specific strategies or techniques for maintaining an optimal distance while marking a thrower in ultimate frisbee?']"
      ]
     },
     "execution_count": 172,
     "metadata": {},
     "output_type": "execute_result"
    }
   ],
   "source": [
    "questions"
   ]
  },
  {
   "cell_type": "code",
   "execution_count": 173,
   "metadata": {},
   "outputs": [
    {
     "data": {
      "text/plain": [
       "['The standard rules and regulations for defender-to-thrower distance in ultimate frisbee are not explicitly mentioned in the provided context.',\n",
       " \"The distance between a defender and a thrower impacts the effectiveness of marking in ultimate frisbee by defining the marker as the defensive player within ten feet of the thrower's pivot or the thrower if no pivot has been established. Being within this distance allows the defender to apply pressure and disrupt the thrower's options. Maintaining this proximity can make it harder for the thrower to execute their intended pass.\",\n",
       " \"Defenders should maintain an optimal distance from the thrower to allow play to continue smoothly. It is important to avoid infringing on the thrower's space while marking to ensure fair play. Defenders should be aware of the rules regarding traveling and maintain a proper pivot position during marking.\"]"
      ]
     },
     "execution_count": 173,
     "metadata": {},
     "output_type": "execute_result"
    }
   ],
   "source": [
    "answers"
   ]
  },
  {
   "cell_type": "code",
   "execution_count": 174,
   "metadata": {},
   "outputs": [
    {
     "data": {
      "text/plain": [
       "\"The minimum distance that a defender can stand to a thrower while marking them in ultimate frisbee is within ten feet of the thrower's pivot or the thrower if no pivot has been established. This distance allows the defender to apply pressure and disrupt the thrower's options effectively. On the other hand, there is no specific maximum distance mentioned in the rules and regulations, but defenders should aim to maintain a close proximity to the thrower to effectively mark them and prevent easy passes. It is important for defenders to find a balance between being close enough to apply pressure and disrupt plays, while also avoiding infringing on the thrower's space and committing fouls.\""
      ]
     },
     "execution_count": 174,
     "metadata": {},
     "output_type": "execute_result"
    }
   ],
   "source": [
    "def format_qa_pairs(questions, answers):\n",
    "    \"\"\"Format Q and A pairs\"\"\"\n",
    "    \n",
    "    formatted_string = \"\"\n",
    "    for i, (question, answer) in enumerate(zip(questions, answers), start=1):\n",
    "        formatted_string += f\"Question {i}: {question}\\nAnswer {i}: {answer}\\n\\n\"\n",
    "    return formatted_string.strip()\n",
    "\n",
    "context = format_qa_pairs(questions, answers)\n",
    "\n",
    "# Prompt\n",
    "template = \"\"\"Here is a set of Q+A pairs:\n",
    "\n",
    "{context}\n",
    "\n",
    "Use these to synthesize an answer to the question: {question}\n",
    "\"\"\"\n",
    "\n",
    "prompt = ChatPromptTemplate.from_template(template)\n",
    "\n",
    "final_rag_chain = (\n",
    "    prompt\n",
    "    | llm\n",
    "    | StrOutputParser()\n",
    ")\n",
    "\n",
    "final_rag_chain.invoke({\"context\":context,\"question\":question})"
   ]
  },
  {
   "cell_type": "markdown",
   "metadata": {},
   "source": [
    "## 4. HYDE\n",
    "Since the question and document might not be semantically similar enough to return good matches, the idea here is to generate a 'fake' text based on the query then use the fake text to search for similar texts."
   ]
  },
  {
   "cell_type": "code",
   "execution_count": 182,
   "metadata": {},
   "outputs": [
    {
     "data": {
      "text/plain": [
       "'In the sport of ultimate frisbee, a player is considered out of bounds if any part of their body, including their feet, is touching the ground outside of the playing field boundaries when they catch the disc. This rule is in place to ensure fair play and to prevent players from gaining an unfair advantage by being out of bounds. Therefore, if a player is on the line when they catch the disc, they are considered out of bounds and the turnover will be awarded to the opposing team. It is important for players to be aware of their positioning on the field to avoid costly turnovers and to adhere to the rules of the game.'"
      ]
     },
     "execution_count": 182,
     "metadata": {},
     "output_type": "execute_result"
    }
   ],
   "source": [
    "# HyDE document genration\n",
    "template = \"\"\"Please write a scientific paper passage to answer the question\n",
    "Question: {question}\n",
    "Passage:\"\"\"\n",
    "prompt_hyde = ChatPromptTemplate.from_template(template)\n",
    "\n",
    "from langchain_core.output_parsers import StrOutputParser\n",
    "from langchain_openai import ChatOpenAI\n",
    "\n",
    "generate_docs_for_retrieval = (\n",
    "    prompt_hyde | ChatOpenAI(temperature=0) | StrOutputParser() \n",
    ")\n",
    "\n",
    "# Run\n",
    "question = \"If a player is on the line when they catch the disc are they out of bounds ?\"\n",
    "generate_docs_for_retrieval.invoke({\"question\":question})"
   ]
  },
  {
   "cell_type": "code",
   "execution_count": 183,
   "metadata": {},
   "outputs": [
    {
     "data": {
      "text/plain": [
       "[Document(page_content='Contact between players does not confer the state of being in- or out-of-bounds from one to another.\\nIf a player catches an in-bounds disc and would reasonably have been able to land in-bounds, but lands on an opposing player in a way that causes their first ground contact to be out-of-bounds, this is to be treated as a force-out foul and 17.I.4.b.4 applies. For this exception to apply, the play resulting in the landing contact cannot be construed as a dangerous play. [[In this case, calls will be resolved in chronological order with the dangerous play superseding the force-out foul.]]\\n\\n\\nA disc becomes in-bounds when it is put into play, or when play starts or restarts.\\nA disc becomes out-of-bounds when it first contacts the out-of-bounds area, contacts an out-of-bounds offensive player, or is caught by an out-of-bounds defensive player.\\nThe disc may fly outside a perimeter line and return to the playing field, and players may go out-of-bounds to make a play on the disc.', metadata={'source': 'https://usaultimate.org/rules/'}),\n",
       " Document(page_content='Contact between players does not confer the state of being in- or out-of-bounds from one to another.\\nIf a player catches an in-bounds disc and would reasonably have been able to land in-bounds, but lands on an opposing player in a way that causes their first ground contact to be out-of-bounds, this is to be treated as a force-out foul and 17.I.4.b.4 applies. For this exception to apply, the play resulting in the landing contact cannot be construed as a dangerous play. [[In this case, calls will be resolved in chronological order with the dangerous play superseding the force-out foul.]]\\n\\n\\nA disc becomes in-bounds when it is put into play, or when play starts or restarts.\\nA disc becomes out-of-bounds when it first contacts the out-of-bounds area, contacts an out-of-bounds offensive player, or is caught by an out-of-bounds defensive player.\\nThe disc may fly outside a perimeter line and return to the playing field, and players may go out-of-bounds to make a play on the disc.', metadata={'source': 'https://usaultimate.org/rules/'}),\n",
       " Document(page_content='Contact between players does not confer the state of being in- or out-of-bounds from one to another.\\nIf a player catches an in-bounds disc and would reasonably have been able to land in-bounds, but lands on an opposing player in a way that causes their first ground contact to be out-of-bounds, this is to be treated as a force-out foul and 17.I.4.b.4 applies. For this exception to apply, the play resulting in the landing contact cannot be construed as a dangerous play. [[In this case, calls will be resolved in chronological order with the dangerous play superseding the force-out foul.]]\\n\\n\\nA disc becomes in-bounds when it is put into play, or when play starts or restarts.\\nA disc becomes out-of-bounds when it first contacts the out-of-bounds area, contacts an out-of-bounds offensive player, or is caught by an out-of-bounds defensive player.\\nThe disc may fly outside a perimeter line and return to the playing field, and players may go out-of-bounds to make a play on the disc.', metadata={'source': 'https://usaultimate.org/rules/'}),\n",
       " Document(page_content='Contact between players does not confer the state of being in- or out-of-bounds from one to another.\\nIf a player catches an in-bounds disc and would reasonably have been able to land in-bounds, but lands on an opposing player in a way that causes their first ground contact to be out-of-bounds, this is to be treated as a force-out foul and 17.I.4.b.4 applies. For this exception to apply, the play resulting in the landing contact cannot be construed as a dangerous play. [[In this case, calls will be resolved in chronological order with the dangerous play superseding the force-out foul.]]\\n\\n\\nA disc becomes in-bounds when it is put into play, or when play starts or restarts.\\nA disc becomes out-of-bounds when it first contacts the out-of-bounds area, contacts an out-of-bounds offensive player, or is caught by an out-of-bounds defensive player.\\nThe disc may fly outside a perimeter line and return to the playing field, and players may go out-of-bounds to make a play on the disc.', metadata={'source': 'https://usaultimate.org/rules/'}),\n",
       " Document(page_content='Contact between players does not confer the state of being in- or out-of-bounds from one to another.\\nIf a player catches an in-bounds disc and would reasonably have been able to land in-bounds, but lands on an opposing player in a way that causes their first ground contact to be out-of-bounds, this is to be treated as a force-out foul and 17.I.4.b.4 applies. For this exception to apply, the play resulting in the landing contact cannot be construed as a dangerous play. [[In this case, calls will be resolved in chronological order with the dangerous play superseding the force-out foul.]]\\n\\n\\nA disc becomes in-bounds when it is put into play, or when play starts or restarts.\\nA disc becomes out-of-bounds when it first contacts the out-of-bounds area, contacts an out-of-bounds offensive player, or is caught by an out-of-bounds defensive player.\\nThe disc may fly outside a perimeter line and return to the playing field, and players may go out-of-bounds to make a play on the disc.', metadata={'source': 'https://usaultimate.org/rules/'})]"
      ]
     },
     "execution_count": 183,
     "metadata": {},
     "output_type": "execute_result"
    }
   ],
   "source": [
    "# Retrieve\n",
    "retrieval_chain = generate_docs_for_retrieval | retriever \n",
    "retireved_docs = retrieval_chain.invoke({\"question\":question})\n",
    "retireved_docs"
   ]
  },
  {
   "cell_type": "code",
   "execution_count": 184,
   "metadata": {},
   "outputs": [
    {
     "data": {
      "text/plain": [
       "'No, if a player catches the disc while on the line, they are considered in-bounds as long as the disc is caught in-bounds.'"
      ]
     },
     "execution_count": 184,
     "metadata": {},
     "output_type": "execute_result"
    }
   ],
   "source": [
    "# RAG\n",
    "template = \"\"\"Answer the following question based on this context:\n",
    "\n",
    "{context}\n",
    "\n",
    "Question: {question}\n",
    "\"\"\"\n",
    "\n",
    "prompt = ChatPromptTemplate.from_template(template)\n",
    "\n",
    "final_rag_chain = (\n",
    "    prompt\n",
    "    | llm\n",
    "    | StrOutputParser()\n",
    ")\n",
    "\n",
    "final_rag_chain.invoke({\"context\":retireved_docs,\"question\":question})"
   ]
  },
  {
   "cell_type": "code",
   "execution_count": null,
   "metadata": {},
   "outputs": [],
   "source": []
  },
  {
   "cell_type": "code",
   "execution_count": null,
   "metadata": {},
   "outputs": [],
   "source": []
  }
 ],
 "metadata": {
  "kernelspec": {
   "display_name": "lang",
   "language": "python",
   "name": "python3"
  },
  "language_info": {
   "codemirror_mode": {
    "name": "ipython",
    "version": 3
   },
   "file_extension": ".py",
   "mimetype": "text/x-python",
   "name": "python",
   "nbconvert_exporter": "python",
   "pygments_lexer": "ipython3",
   "version": "3.11.8"
  }
 },
 "nbformat": 4,
 "nbformat_minor": 2
}
