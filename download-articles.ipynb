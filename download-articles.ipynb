{
 "cells": [
  {
   "cell_type": "markdown",
   "id": "2492a527-1219-42b5-81a7-e83395958705",
   "metadata": {},
   "source": [
    "# Download Articles\n",
    "We want to build a dataset of ultimate-related articles so we will scrape **[Ultiworld](https://ultiworld.com/)** for articles about ultimate.\n",
    "\n"
   ]
  },
  {
   "cell_type": "code",
   "execution_count": 1,
   "id": "cb904f73-4311-4a16-b424-712ab1c7adde",
   "metadata": {},
   "outputs": [
    {
     "data": {
      "text/plain": [
       "dict_keys(['ultiworld'])"
      ]
     },
     "execution_count": 1,
     "metadata": {},
     "output_type": "execute_result"
    }
   ],
   "source": [
    "from selenium import webdriver\n",
    "from selenium.webdriver.chrome.service import Service\n",
    "from selenium.webdriver.common.keys import Keys\n",
    "from selenium.webdriver.common.by import By\n",
    "import time\n",
    "import json\n",
    "from bs4 import BeautifulSoup\n",
    "import re\n",
    "import numpy as np\n",
    "import os\n",
    "\n",
    "# load login info\n",
    "with open(\"secrets.json\") as f:\n",
    "    secrets = json.load(f)\n",
    "secrets.keys()"
   ]
  },
  {
   "cell_type": "code",
   "execution_count": 2,
   "id": "b74f81fe-1da8-4da2-bb06-5466e45214e5",
   "metadata": {},
   "outputs": [],
   "source": [
    "class Browser():\n",
    "    def __init__(self, service, options):\n",
    "        self.browser = webdriver.Chrome(service=service, options=options)\n",
    "        self.short_delay = 1\n",
    "        self.long_delay = 3\n",
    "    \n",
    "    def open_page(self, url: str):\n",
    "        self.browser.get(url)\n",
    "        time.sleep(self.long_delay)\n",
    "\n",
    "    def close_browser(self):\n",
    "        self.browser.close()\n",
    "\n",
    "    def add_input(self, by: By, value: str, text: str):\n",
    "        field = self.browser.find_element(by=by, value=value)\n",
    "        field.send_keys(text)\n",
    "        time.sleep(self.short_delay)\n",
    "\n",
    "    def click_button(self, by: By, value: str):\n",
    "        button = self.browser.find_element(by=by, value=value)\n",
    "        button.click()\n",
    "        time.sleep(self.short_delay)\n",
    "\n",
    "    def login_ultiworld(self, username: str, password:str):\n",
    "        self.add_input(by = By.ID, value = \"user_login\", text=username)\n",
    "        self.add_input(by = By.ID, value = \"user_pass\", text=password)\n",
    "        self.click_button(by = By.ID, value = \"wp-submit\")\n",
    "\n",
    "    def get_page_source(self):\n",
    "        return self.browser.page_source\n",
    "        \n",
    "    def open_new_tab(self, url: str):\n",
    "        self.browser.execute_script(f\"window.open('{url}');\")\n",
    "        time.sleep(self.long_delay)\n",
    "\n",
    "    def go_to_tab(self, tab_index: int):\n",
    "        self.browser.switch_to.window(window_name = self.browser.window_handles[tab_index])\n",
    "    "
   ]
  },
  {
   "cell_type": "code",
   "execution_count": 3,
   "id": "51804973",
   "metadata": {},
   "outputs": [],
   "source": [
    "def extract_text(page_source):\n",
    "    soup = BeautifulSoup(page_source, \"html.parser\")\n",
    "    paragraphs = soup.find_all(\"p\")\n",
    "\n",
    "    clean_paragraphs = []\n",
    "    for paragraph in paragraphs:\n",
    "        if 'class=' not in str(paragraph):\n",
    "            clean_paragraphs.append(paragraph.text)\n",
    "        elif \"TAGGED\" in paragraph:\n",
    "            break\n",
    "    text = \"\\n\".join(clean_paragraphs)\n",
    "\n",
    "    replacement_pairs = [('“', '\"'), ('”', '\"'), (\"’\", \"'\")]\n",
    "    for old, new in replacement_pairs:\n",
    "        text = text.replace(old, new)\n",
    "    return text"
   ]
  },
  {
   "cell_type": "code",
   "execution_count": 8,
   "id": "568d0f8c",
   "metadata": {},
   "outputs": [],
   "source": [
    "url = \"https://ultiworld.com/wordpress/wp-login.php?redirect_to=https%3A%2F%2Fultiworld.com%2F\"\n",
    "search_terms = [\"strategy\", \"analysis\", \"throwing\", \"cutting\", \"handling\"]\n",
    "article_folder = \"articles\"\n",
    "max_articles_per_search = 200\n",
    "\n",
    "for search_term in search_terms:\n",
    "\n",
    "    items = []\n",
    "\n",
    "    # Instantiate browser object\n",
    "    browser = Browser(service = Service(), options = webdriver.ChromeOptions())\n",
    "\n",
    "    # Open browser and log in to ultiworld\n",
    "    browser.open_page(url)\n",
    "    browser.login_ultiworld(secrets[\"ultiworld\"][\"username\"], secrets[\"ultiworld\"][\"password\"])\n",
    "\n",
    "    # search for articles on `search_term`\n",
    "    browser.click_button(by = By.ID, value = \"search-button\")\n",
    "    browser.add_input(by = By.ID, value = \"unified-input\", text = search_term+Keys.ENTER)\n",
    "    browser.click_button(by = By.CLASS_NAME, value = \"ais-Panel-headerButton\")\n",
    "    browser.click_button(by = By.CLASS_NAME, value = \"ais-RefinementList-checkbox\")\n",
    "    time.sleep(5)\n",
    "\n",
    "    while len(items) < max_articles_per_search:\n",
    "        time.sleep(np.random.randint(3,6))  # delay to allow page to load\n",
    "        \n",
    "        # get articles and their links on page\n",
    "        page_source = browser.get_page_source()\n",
    "        soup = BeautifulSoup(page_source, \"html.parser\")\n",
    "        article_links = soup.find_all(\"a\", class_=\"uni-Hit-inner\")\n",
    "\n",
    "        page_items = []\n",
    "        for article_link in article_links:\n",
    "            item = {\n",
    "                \"date\": article_link.find(\"span\", class_=\"uni-Hit-date\").text,\n",
    "                \"title\": article_link.find(\"span\", class_=\"uni-Hit-title\").text,\n",
    "                \"url\": article_link.get(\"href\")\n",
    "            }\n",
    "            page_items.append(item)\n",
    "        \n",
    "        for item in page_items:\n",
    "            # check if article is in folder already and skip if present\n",
    "            article_filename = re.sub(r'[^\\w\\s]', '', item['title']).lower().replace(\" \",\"-\") + \".txt\"\n",
    "            print(article_filename, end=\"\\r\")\n",
    "            if article_filename in os.listdir(article_folder):\n",
    "                continue\n",
    "\n",
    "            # Open link in new tab, move into new tab\n",
    "            browser.open_new_tab(item['url'])\n",
    "            browser.go_to_tab(tab_index = -1)\n",
    "\n",
    "            # extract article text and save to disk\n",
    "            page_source = browser.get_page_source()\n",
    "            text = extract_text(page_source)\n",
    "            \n",
    "            with open(f\"{article_folder}/{article_filename}\", \"w\") as f:\n",
    "                f.write(text)\n",
    "\n",
    "            # Close current tab and return to original tab\n",
    "            browser.close_browser()\n",
    "            browser.go_to_tab(tab_index = 0)\n",
    "\n",
    "            items.extend(item)\n",
    "\n",
    "        try:\n",
    "            # go to next search results page\n",
    "            browser.click_button(by = By.XPATH, value = '//*[@title=\"Next page\"]')\n",
    "        except:\n",
    "            print(\"We have reached the end of the articles\")\n",
    "            break\n",
    "    \n",
    "    # Close browser\n",
    "    browser.go_to_tab(tab_index = 0)\n",
    "    browser.close_browser()\n",
    "\n",
    "    print(f\"{len(items)} {search_term} articles downloaded\")"
   ]
  },
  {
   "cell_type": "code",
   "execution_count": 10,
   "id": "76d05bca",
   "metadata": {},
   "outputs": [],
   "source": [
    "# browser.go_to_tab(tab_index = 0)\n",
    "# browser.close_browser()"
   ]
  },
  {
   "cell_type": "markdown",
   "id": "81238093",
   "metadata": {},
   "source": [
    "### Cleaning up files even more\n",
    "It seems that every article still has some comments (often identical) after the `TAGGED:` entry. So let's iterate through the files and remove these."
   ]
  },
  {
   "cell_type": "code",
   "execution_count": 11,
   "id": "2bcafe30",
   "metadata": {},
   "outputs": [],
   "source": [
    "files = os.listdir(article_folder)\n",
    "files.sort()\n",
    "for file in files:\n",
    "    with open(f\"{article_folder}/{file}\", \"r\") as f:\n",
    "        text = f.read()\n",
    "\n",
    "    # cut out comments at end\n",
    "    text = text.split(\"TAGGED:\")[0]\n",
    "    text = text.split(\"Baylor also went 4-0 \")[0]\n",
    "    with open(f\"{article_folder}/{file}\", \"w\") as f:\n",
    "        f.write(text)\n"
   ]
  },
  {
   "cell_type": "markdown",
   "id": "7e260a46",
   "metadata": {},
   "source": []
  },
  {
   "cell_type": "code",
   "execution_count": 12,
   "id": "04f460ad",
   "metadata": {},
   "outputs": [
    {
     "data": {
      "text/plain": [
       "568"
      ]
     },
     "execution_count": 12,
     "metadata": {},
     "output_type": "execute_result"
    }
   ],
   "source": [
    "files = os.listdir(article_folder)\n",
    "len(files)"
   ]
  },
  {
   "cell_type": "code",
   "execution_count": null,
   "id": "f6d136e2",
   "metadata": {},
   "outputs": [],
   "source": []
  }
 ],
 "metadata": {
  "kernelspec": {
   "display_name": "ulti",
   "language": "python",
   "name": "python3"
  },
  "language_info": {
   "codemirror_mode": {
    "name": "ipython",
    "version": 3
   },
   "file_extension": ".py",
   "mimetype": "text/x-python",
   "name": "python",
   "nbconvert_exporter": "python",
   "pygments_lexer": "ipython3",
   "version": "3.10.13"
  }
 },
 "nbformat": 4,
 "nbformat_minor": 5
}
