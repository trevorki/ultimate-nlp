{
 "cells": [
  {
   "cell_type": "markdown",
   "metadata": {},
   "source": [
    "# Rules of Ultimate RAG\n",
    "We want to create a way to query the rules of Ultimate using **retrieval augmented generation** (RAG)."
   ]
  },
  {
   "cell_type": "code",
   "execution_count": 23,
   "metadata": {},
   "outputs": [],
   "source": [
    "# from langchain import hub\n",
    "from langchain.text_splitter import RecursiveCharacterTextSplitter\n",
    "from langchain_community.vectorstores import Chroma\n",
    "from langchain_core.output_parsers import StrOutputParser\n",
    "from langchain_core.runnables import RunnablePassthrough\n",
    "from langchain_openai import ChatOpenAI, OpenAIEmbeddings\n",
    "from langchain.load import dumps, loads\n",
    "from langchain.prompts import ChatPromptTemplate\n",
    "from langchain_community.document_loaders import WebBaseLoader\n",
    "import bs4\n",
    "\n",
    "from operator import itemgetter\n",
    "from dotenv import load_dotenv\n",
    "import os\n",
    "\n",
    "# import secrets as environment variables\n",
    "load_dotenv()\n",
    "os.environ['LANGCHAIN_TRACING_V2'] = 'true' # whether to track using langsmith\n",
    "os.environ['LANGCHAIN_ENDPOINT'] =\"https://api.smith.langchain.com\"\n",
    "os.environ['LANGCHAIN_PROJECT'] = 'Trevor learning'"
   ]
  },
  {
   "cell_type": "code",
   "execution_count": 2,
   "metadata": {},
   "outputs": [],
   "source": [
    "# Convert PDF files to text\n",
    "import fitz # install using: pip install PyMuPDF\n",
    "\n",
    "def extract_text_from_pdf(pdf_file_path: str):\n",
    "    \"\"\"Extracts the text from a pdf file\n",
    "    Args:\n",
    "        pdf_file_path (str): path to pdf file to use\n",
    "    Returns:\n",
    "        str: the text from the file\n",
    "    \"\"\"\n",
    "    with fitz.open(pdf_file_path) as doc:\n",
    "        text = \"\"\n",
    "        for page in doc:\n",
    "            text += page.get_text()\n",
    "    return text\n"
   ]
  },
  {
   "cell_type": "markdown",
   "metadata": {},
   "source": [
    "## Load rules\n",
    "Can use local files (pdf) or from a website"
   ]
  },
  {
   "cell_type": "code",
   "execution_count": 3,
   "metadata": {},
   "outputs": [],
   "source": [
    "# # Download rules to /texts folder\n",
    "# ! mkdir texts\n",
    "# ! wget https://usaultimate.org/wp-content/uploads/2022/01/Official-Rules-of-Ultimate-2022-2023.pdf -P texts"
   ]
  },
  {
   "cell_type": "code",
   "execution_count": 33,
   "metadata": {},
   "outputs": [
    {
     "name": "stdout",
     "output_type": "stream",
     "text": [
      "Start of `rules_text`: \n",
      " \n",
      "2022-23 Official Rules of Ultimate \n",
      " \n",
      "Preface \n",
      "Ultimate is a sport that inspires players and fans alike because of its ability to develop and showcase the \n",
      "athleticism, skill, teamwork, and characte\n"
     ]
    }
   ],
   "source": [
    "# load rules from PDF\n",
    "\n",
    "pdf_file_path = \"texts/Official-Rules-of-Ultimate-2022-2023.pdf\"\n",
    "rules_text = extract_text_from_pdf(pdf_file_path)\n",
    "print(f\"Start of `rules_text`: \\n{rules_text[0:200]}\")\n",
    "\n",
    "# Split text into chunks\n",
    "chunk_size=2000\n",
    "chunk_overlap=100\n",
    "text_splitter = RecursiveCharacterTextSplitter(chunk_size=chunk_size, chunk_overlap=chunk_overlap)\n",
    "splits = text_splitter.create_documents((rules_text,))\n",
    "\n",
    "# Store embeddings\n",
    "vectorstore = Chroma.from_documents(documents=splits, embedding=OpenAIEmbeddings())\n",
    "retriever = vectorstore.as_retriever(\n",
    "    search_type=\"mmr\"\n",
    ")\n"
   ]
  },
  {
   "cell_type": "code",
   "execution_count": 34,
   "metadata": {},
   "outputs": [],
   "source": [
    "template = \"\"\"You are a rules expert for the sport of ultimate, sometimes called ultimate frisbee. \n",
    "You will be given the official rules as context and will answer questions based on the rules.\n",
    "Answers should be no more than three sentences long. \n",
    "If you don't know the answer say that you don't.\n",
    "\n",
    "Answer the following question based on this context:\n",
    "{context}\n",
    "Question: \n",
    "{question}\n",
    "\"\"\"\n",
    "prompt = ChatPromptTemplate.from_template(template)\n",
    "\n",
    "# LLM\n",
    "llm = ChatOpenAI(model_name=\"gpt-3.5-turbo\", temperature=0)\n",
    "\n",
    "# Post-processing\n",
    "def format_docs(docs):\n",
    "    return \"\\n\\n\".join(doc.page_content for doc in docs)\n",
    "\n",
    "# Chain\n",
    "simple_rag_chain = (\n",
    "    {\"context\": retriever | format_docs, \"question\": RunnablePassthrough()}\n",
    "    | prompt\n",
    "    | llm\n",
    "    | StrOutputParser()\n",
    ")\n"
   ]
  },
  {
   "cell_type": "code",
   "execution_count": 35,
   "metadata": {},
   "outputs": [
    {
     "name": "stdout",
     "output_type": "stream",
     "text": [
      "Personal Misconduct Fouls (Yellow Cards) are assessed against a specific team member for particularly egregious conduct or a pattern of such behavior. A PMF is a formal warning for unacceptable behavior and puts the team member on notice that any further such actions will result in ejection from the game. If a team member receives a second PMF during a single game, they are ejected for the remainder of that game.\n"
     ]
    }
   ],
   "source": [
    "# Question\n",
    "question = \"Please explain how personal misconduct fouls work\"\n",
    "answer = simple_rag_chain.invoke(question)\n",
    "print(answer)"
   ]
  },
  {
   "cell_type": "markdown",
   "metadata": {},
   "source": [
    "# Using Query Fusion to get better results"
   ]
  },
  {
   "cell_type": "code",
   "execution_count": 36,
   "metadata": {},
   "outputs": [
    {
     "data": {
      "text/plain": [
       "['1. How are personal misconduct fouls handled in ultimate frisbee?',\n",
       " '2. Can you elaborate on the rules regarding personal misconduct fouls in ultimate?',\n",
       " '3. What happens when a player commits a personal misconduct foul in ultimate frisbee?',\n",
       " '4. Could you provide a detailed explanation of the consequences of personal misconduct fouls in ultimate?',\n",
       " '5. What are the protocols for addressing personal misconduct fouls in the sport of ultimate frisbee?']"
      ]
     },
     "execution_count": 36,
     "metadata": {},
     "output_type": "execute_result"
    }
   ],
   "source": [
    "# Generate multiple rewordings of the question\n",
    "n_rewordings = 5\n",
    "template = f\"\"\"You are an AI language model assistant. Your task is to generate {n_rewordings} \n",
    "different versions of the given user question to retrieve relevant documents from a vector \n",
    "database. By generating multiple perspectives on the user question, your goal is to help\n",
    "the user overcome some of the limitations of the distance-based similarity search. \n",
    "Provide these alternative questions separated by newlines. \n",
    "All questions will relate to the sport of ultimate, sometimes called ultimate frisbee.\n",
    "Original question: {{question}}\"\"\"\n",
    "prompt_alternatives = ChatPromptTemplate.from_template(template)\n",
    "\n",
    "generate_queries = (\n",
    "    prompt_alternatives \n",
    "    | ChatOpenAI(temperature=0) \n",
    "    | StrOutputParser() \n",
    "    | (lambda x: x.split(\"\\n\"))\n",
    ")\n",
    "# Try it out\n",
    "generate_queries.invoke({\"question\":question})"
   ]
  },
  {
   "cell_type": "code",
   "execution_count": 37,
   "metadata": {},
   "outputs": [],
   "source": [
    "def reciprocal_rank_fusion(results: list[list], top_n=5, k=60):\n",
    "    \"\"\" Reciprocal_rank_fusion that takes multiple lists of ranked documents \n",
    "        and an optional parameter k used in the RRF formula, \n",
    "        returning the top_n highest ranked results\"\"\"\n",
    "\n",
    "    fused_scores = {}\n",
    "    for docs in results:\n",
    "        # Iterate through each document in the list, with its rank (position in the list)\n",
    "        for rank, doc in enumerate(docs):\n",
    "            doc_str = dumps(doc)\n",
    "            if doc_str not in fused_scores:\n",
    "                fused_scores[doc_str] = 0\n",
    "            # Update the score of the document using the RRF formula: 1 / (rank + k)\n",
    "            fused_scores[doc_str] += 1 / (rank + k)\n",
    "\n",
    "    # Sort the documents based on their fused scores in descending order\n",
    "    reranked_results = [\n",
    "        (loads(doc), score)\n",
    "        for doc, score in sorted(fused_scores.items(), key=lambda x: x[1], reverse=True)\n",
    "    ]\n",
    "    # return top_n highest ranked results\n",
    "    if len(reranked_results)> top_n:\n",
    "        reranked_results=reranked_results[0:top_n]\n",
    "    return reranked_results\n"
   ]
  },
  {
   "cell_type": "code",
   "execution_count": 38,
   "metadata": {},
   "outputs": [
    {
     "data": {
      "text/plain": [
       "5"
      ]
     },
     "execution_count": 38,
     "metadata": {},
     "output_type": "execute_result"
    }
   ],
   "source": [
    "# get documents for each question then rank them\n",
    "retrieval_chain_rag_fusion = (\n",
    "    generate_queries \n",
    "    | retriever.map() \n",
    "    | reciprocal_rank_fusion\n",
    ")\n",
    "docs = retrieval_chain_rag_fusion.invoke({\"question\": question})\n",
    "len(docs)"
   ]
  },
  {
   "cell_type": "code",
   "execution_count": 39,
   "metadata": {},
   "outputs": [
    {
     "data": {
      "text/plain": [
       "'Personal misconduct fouls result in ejection from the game. The ejected player must leave the area and refrain from interacting with team members, spectators, or officials. Failure to comply may result in a forfeit for the team.'"
      ]
     },
     "execution_count": 39,
     "metadata": {},
     "output_type": "execute_result"
    }
   ],
   "source": [
    "# RAG\n",
    "template = \"\"\"You are a rules expert for the sport of ultimate, sometimes called ultimate frisbee. \n",
    "You will be given the official rules as context and will answer questions based on the rules.\n",
    "Answers should be one to four sentences long, but keep it as short as possible. \n",
    "If you don't know the answer say that you don't.\n",
    "\n",
    "Answer the following question based on this context:\n",
    "{context}\n",
    "Question: \n",
    "{question}\n",
    "\"\"\"\n",
    "prompt = ChatPromptTemplate.from_template(template)\n",
    "final_rag_chain = (\n",
    "    {\"context\": retrieval_chain_rag_fusion, \n",
    "     \"question\": itemgetter(\"question\")} \n",
    "    | prompt\n",
    "    | llm\n",
    "    | StrOutputParser()\n",
    ")\n",
    "final_rag_chain.invoke({\"question\":question})"
   ]
  },
  {
   "cell_type": "code",
   "execution_count": null,
   "metadata": {},
   "outputs": [],
   "source": []
  },
  {
   "cell_type": "code",
   "execution_count": 40,
   "metadata": {},
   "outputs": [
    {
     "data": {
      "text/plain": [
       "[(Document(page_content='This appendix describes the system for handling misconduct within a game that is using observers. \\nAdditional mechanisms for handling misconduct at the event level or beyond are described in the USA \\nUltimate Conduct Policy. The “Acting Disciplinary Authority” (ADA) as referred to in this Appendix means \\nany tournament director, Tournament Rules Group, certified observer, Sectional or Regional Coordinator, \\nState Youth Coordinator, Regional Youth Director, National Director, member of the USA Ultimate \\nAdministration performing their duties in some specific capacity, officer or agent of USA Ultimate, or some \\nother USA Ultimate-appointed individual or group charged with decision-making regarding conduct \\npertaining to a specific USA Ultimate event or program in progress. \\nB1. Components of the Misconduct System  \\nA. Technical Foul  \\n1. A Technical Foul can be assessed against a team for minor conduct violations that do not \\naffect the competitiveness of the game.  \\n2. The first two Technical Fouls issued to a team are warnings with no associated penalty.  \\n3. A third or subsequent Technical Fouls for a team in a single game results in a Misconduct \\nPenalty against that team.  \\n4. There is no limit to the number of Technical Fouls or Misconduct Penalties a team can accrue \\nduring a game.  \\n5. Technical Fouls do not carry over beyond the game in which they are issued.  \\nB. Team Misconduct Foul (Blue Card)  \\n1. A Team Misconduct Foul (TMF) can be assessed against a team for conduct that violates \\nSpirit of the Game by any team member or spectators considered as partisans for the team.  \\n2. The TMF can be assessed regardless of whether the infracted team makes any call, although \\nteams are encouraged to make violation calls in order to directly communicate about issues \\nand minimize the need for observers to issue TMFs without a call.  \\n3. The first two TMFs issued to a team are warnings with no associated penalty.'),\n",
       "  0.06666666666666667),\n",
       " (Document(page_content='1. A captain can decline a misconduct penalty and leave the disc as is.  \\n2. In exceptional circumstances, observers may deny the declination if they feel the teams are \\ntrying to circumvent mandatory tournament rules, guidelines, or player safety. \\n \\n \\n \\nAppendix C: Hand Signals \\nC1.  Player and Observer Hand Signals \\n \\n \\n \\n \\nIn- or out-of-bounds \\nDisc up or down \\nIn the end zone \\n \\n \\n \\n \\n \\n \\n \\n \\nArtwork \\nPending \\nGoal \\nForce-out foul \\nBobble \\n \\n \\n \\n \\n \\n \\nArtwork \\nPending \\n (consistent with WFDF) \\n \\n \\nFoul \\nNo contest \\nContest \\n \\n \\n \\n \\n \\n \\nRetraction (3 swipes) \\nInjury timeout \\nDisc uncatchable \\n \\n \\n \\n \\n \\n \\n \\nArtwork \\nPending \\n(consistent with WFDF) \\n \\nTravel \\nPick \\nStall or time violation \\n \\n \\n \\n \\n \\n \\nReadiness and brick \\n \\nPlay has stopped \\nAnnounce stall (use appropriate \\nnumber of fingers) \\n \\n \\n \\n \\n \\n \\nDouble team \\nDisc space \\nFast count \\n \\n \\n \\n \\n \\n \\nArtwork \\nPending \\n(arms out to the side like a “T”) \\n \\n \\n \\n \\nArtwork \\nPending \\n(hands behind head, elbows out) \\nVision blocking \\nGender ratio: 4 women \\nGender ratio: 4 men \\n \\n \\n \\n \\n \\n \\nOffsides \\n10/20 seconds \\nPre-stall count \\n \\n \\n \\nArtwork \\nPending \\n \\n \\n \\nArtwork \\nPending \\n(consistent with WFDF) \\n \\n \\nTimeout \\nSpirit timeout \\nInjury substitution \\n \\n \\nC2. Observer Only Hand Signals \\n \\n \\n \\n \\n \\n \\n \\n \\nObserver ruling \\nObserver overrule \\nCall on field \\n \\n \\n \\n \\nTimeout \\n \\n \\n \\nAppendix D: Youth Rules Adaptations \\nThe following adaptations to the rules are recommended for youth ultimate competitions, as defined \\nbelow. These adaptations may be additions to the current official rules or may supersede existing rules. \\nOther than these additions and changes, the current official rules will apply to youth competition.  \\n \\nThe goals for Youth Rules Adaptations are to modify the game to make it both safer and more \\ndevelopmentally appropriate for various age groups. The current age categories are a general \\napproximation of development levels, and are also in part based on factors such as school levels and the'),\n",
       "  0.06478893337698204),\n",
       " (Document(page_content='Exception: If separate fouls occur while the disc is in the air, but before any player starts to \\nattempt to catch or block the disc, those fouls are treated as simultaneous and on the same \\nplay.  \\n[[Examples:  \\n1. A receiver and their opponent contact each other and both call fouls against the other. 17.H.2 \\napplies, and the disc is returned to the thrower and put into play with a check, with the count \\nreached plus one or at six if over five.  \\n2. Two different receiver-opponent pairs call fouls -- one against the offense and one against the \\ndefense -- while the disc is in the air, but before anyone starts trying to catch it. 17.H.3 applies in \\nthis case, even if the fouls occur several seconds apart. The disc is returned to the thrower and \\nput into play with a check, with the count reached plus one or at six if over five.  \\n3. The marker calls an offensive foul on the thrower during the throw, then later a receiver calls a \\ndefensive foul on a defender during the reception on an incomplete pass. The fouls are resolved \\nin reverse sequence. First, the receiving foul is resolved (here, assumed uncontested), granting \\npossession to the offensive receiver, then the throwing foul is resolved (here, assumed \\nuncontested), returning the disc to the thrower with the count reached plus one (max nine). The \\nearlier infraction (offensive foul on the thrower) takes precedence over the later infraction \\n(defensive foul on the receiver), resulting in the disc returning to the original thrower.]] \\nI. Fouls (3.C): It is the responsibility of all players to avoid contact in every way possible. [[Avoid \\ncontact in every way reasonably possible, while still playing ultimate. Some contact is inevitable, \\nbut players have an affirmative obligation to make reasonable efforts to avoid contact.]] \\n1. \\nDangerous Play. Actions demonstrating reckless disregard for the safety of or posing a \\nsignificant risk of injury to fellow players, or other dangerously aggressive behavior are'),\n",
       "  0.06452452301209573),\n",
       " (Document(page_content='2022-23 Official Rules of Ultimate \\n \\nPreface \\nUltimate is a sport that inspires players and fans alike because of its ability to develop and showcase the \\nathleticism, skill, teamwork, and character of its participants. The arc of the disc in flight, the opportunity \\nfor each individual to contribute equally to their team’s success, and the trust given to each player to \\nknow and uphold the rules make ultimate a sport that is embraced for its fun and excitement on the field \\nand for the community beyond it. As a low-cost sport requiring minimal equipment, offering single and \\nmixed-gender play, and providing a format that builds communication and conflict resolution skills, \\nultimate provides a welcoming, high value experience for players and fans from a diverse set of \\nbackgrounds and experiences. The Official Rules of Ultimate 2022-2023 describes how the game is \\nplayed, including how players self-officiate and apply the principles of Spirit of the Game in competition. \\n1. \\nIntroduction \\nA. Description: Ultimate is a non-contact, self-officiated disc sport played by two teams of seven \\nplayers. The object of the game is to score goals. A goal is scored when a player catches any legal \\npass in the end zone that player is attacking. A player may not run while holding the disc. The disc \\nis advanced by passing it to other players. The disc may be passed in any direction. Any time a \\npass is incomplete, a turnover occurs, resulting in an immediate change of the team in possession \\nof the disc. Players are empowered to self-officiate using a framework governed by the principles \\nof Spirit of the Game. \\nB. Rules Variations \\n1. \\nAppendices included in these rules outline rules changes and additions specific to several \\nvariations of the sport. \\n2. \\nEvent Organizer Clause: The event organizer may modify rules relating to game logistics in \\norder to suit the event. Examples include game length (game total), time limits (time caps),'),\n",
       "  0.04839549075403121),\n",
       " (Document(page_content='be legal.]] \\nB. After catching a pass, a player is required to come to a stop as quickly as possible and establish a \\npivot. \\nC. If a player catches the disc while running or jumping the player may release a pass without \\nattempting to stop and without setting a pivot, provided that: \\n1. \\nthe player does not change direction or increase speed while in possession of the disc; and \\n2. \\nthe pass is released before three additional points of contact with the ground are made after \\npossession has been established. \\nD. If offensive and defensive players catch the disc simultaneously, the offense retains possession. \\nE. If it is unclear whether a catch was made before the disc contacted the ground (grass is \\nconsidered part of the ground), or whether a player\\'s first point of ground contact after catching the \\ndisc was in- or out-of-bounds or in or out of the end zone, the player with the best perspective \\nmakes the call. \\n17. Violations and Fouls \\nA. An infraction may only be called by a player on the infracted team who recognizes that it has \\noccurred, unless specified differently elsewhere. [[The player must know that a specific rule was \\nviolated and have perceived the particular action with certainty. A player may not call an infraction \\nwhenever the player maybe recognizes that some infraction might have occurred.]] The player \\nmust immediately call “violation” or the name of the specific infraction loudly. \\nB. A player called for an infraction may contest that call if that player believes the infraction did not \\noccur. [[This belief may be based on the player’s perspective on the particular sequence of events \\nor based on a disagreement over the application of the rules, provided the player has read and \\nunderstands the rules. For example, \"No, I didn’t slap your hand\" or \"Tipping the disc to someone \\nelse is not a travel.\"]] \\nC. Any time an infraction is called, the Continuation Rule applies. Continuation Rule: Play stops when'),\n",
       "  0.032266458495966696)]"
      ]
     },
     "execution_count": 40,
     "metadata": {},
     "output_type": "execute_result"
    }
   ],
   "source": [
    "docs"
   ]
  },
  {
   "cell_type": "code",
   "execution_count": null,
   "metadata": {},
   "outputs": [],
   "source": []
  }
 ],
 "metadata": {
  "kernelspec": {
   "display_name": "lang",
   "language": "python",
   "name": "python3"
  },
  "language_info": {
   "codemirror_mode": {
    "name": "ipython",
    "version": 3
   },
   "file_extension": ".py",
   "mimetype": "text/x-python",
   "name": "python",
   "nbconvert_exporter": "python",
   "pygments_lexer": "ipython3",
   "version": "3.11.8"
  }
 },
 "nbformat": 4,
 "nbformat_minor": 2
}
